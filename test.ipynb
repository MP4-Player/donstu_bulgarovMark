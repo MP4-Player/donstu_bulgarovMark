{
 "cells": [
  {
   "cell_type": "code",
   "execution_count": 89,
   "metadata": {},
   "outputs": [],
   "source": [
    "import pandas as pd\n",
    "import random \n",
    "import matplotlib.pyplot as plt\n",
    "from mpl_toolkits.mplot3d import Axes3D"
   ]
  },
  {
   "cell_type": "code",
   "execution_count": null,
   "metadata": {},
   "outputs": [],
   "source": []
  },
  {
   "cell_type": "code",
   "execution_count": 90,
   "metadata": {},
   "outputs": [],
   "source": [
    "class Baze:\n",
    "    def __init__(self,file):\n",
    "        self.file=pd.read_csv(file, delimiter=\",\", nrows=500)\n",
    "        #self.file[\"Number\"]=[random.randint(0, 50) for i in range(500)]\n",
    "        self.file[\"User Rating\"]=pd.to_numeric(self.file[\"User Rating\"])\n",
    "\n",
    "    def Info(self):\n",
    "        print(self.file[:5])       \n",
    "\n",
    "    def New_Name(self, start_title, new_title):\n",
    "        print(self.file.columns)\n",
    "        self.file.rename(columns={start_title: new_title}, inplace=True)\n",
    "        print(self.file.columns)\n",
    "        self.file.to_csv(\"anime.csv\")\n",
    "        \n",
    "\n",
    "    def New_value(self):\n",
    "        self.file[\"Episode Title\"]=self.file[\"Episode Title\"].fillna(\"\\(0o0)/\")\n",
    "        self.Info()\n",
    "          \n",
    "\n",
    "    def New_column(self):\n",
    "        self.file[\"New_column\"]=self.file['Episode'].astype(str)+self.file[\"Episode Title\"]+\"0\"\n",
    "        print(self.file[:5])\n",
    "    \n",
    "    def Mathem(self):\n",
    "        numeric_columns = ['User Rating', 'Number of Votes', 'Runtime', 'Metascore', 'Gross']\n",
    "\n",
    "        for col in numeric_columns:\n",
    "            sorted[col] = sorted[col].astype(str)\n",
    "            sorted[col].apply(lambda x: x.replace(\",\", \"\").replace(\" \", \"\").replace(\"nan\", \"0\"))\n",
    "            sorted[col].astype(float)\n",
    "            print(sorted[col].agg(['min', 'max', 'mean', 'median']))\n",
    "            \"\"\"print(f\"Среднее значение: {self.file[col].mean()}\")\n",
    "            print(f\"Минимум: {self.file[col].min()}\")\n",
    "            print(f\"Максимум: {self.file[col].max()}\")\"\"\"\n",
    "\n",
    "\n",
    "    def Group(self):\n",
    "        print(\"Сортировка по убыванию\")\n",
    "        a=self.file.groupby([\"User Rating\"], sort=True).agg({'User Rating': [\"mean\"]}).reset_index()\n",
    "        print(a)\n",
    "        a.plot(kind=\"bar\")\n",
    "\n",
    "    \n",
    "    def filtr(self):\n",
    "        self.file[self.file[\"Runtime\"].isnull() == True] = \"0 min\"\n",
    "        self.file[\"Runtime\"] = self.file[\"Runtime\"].apply(lambda x: x.replace(\"min\", \"\").replace(\" \", \"\").replace(\",\", \"\"))\n",
    "        self.file[\"Runtime\"].unique()\n",
    "        self.file[\"Runtime\"] = self.file[\"Runtime\"].astype(int)\n",
    "        self.file[\"Runtime\"].info()\n",
    "        sorted = self.file[(self.file[\"Runtime\"] > 13) & (self.file[\"Runtime\"] < 28)]\n",
    "        print(\"Уникальные значения: \")\n",
    "        print(sorted[\"Runtime\"].unique())\n",
    "        print(\"Количество дубликатов: \")\n",
    "        print(sorted[\"Runtime\"].value_counts())\n",
    "\n",
    "    def Graf(self):\n",
    "        sorted[\"Runtime\"].value_counts().plot.bar()\n",
    "\n",
    "    def Svod_table(self):\n",
    "        # Выберем только числовые столбцы для анализа\n",
    "        numeric_columns = ['User Rating', 'Number of Votes', 'Runtime', 'Metascore', 'Gross']\n",
    "        for col in numeric_columns:\n",
    "            sorted[col] = sorted[col].astype(str)\n",
    "            sorted[col] = sorted[col].apply(lambda x: x.replace(\",\", \"\").replace(\" \", \"\").replace(\"nan\", \"0\"))\n",
    "            sorted[col] = sorted[col].astype(float)\n",
    "        # Создадим перекрестную выборку с агрегированными значениями\n",
    "        cross_data = sorted[numeric_columns].agg(['min', 'max', 'mean', 'median'])\n",
    "        # Выведем перекрестную выборку\n",
    "        print(cross_data)\n"
   ]
  },
  {
   "cell_type": "code",
   "execution_count": 91,
   "metadata": {},
   "outputs": [
    {
     "name": "stdout",
     "output_type": "stream",
     "text": [
      "   Unnamed: 0.3  Unnamed: 0.2  Unnamed: 0.1  Unnamed: 0  \\\n",
      "0             0             0             0           0   \n",
      "1             1             1             1           1   \n",
      "2             2             2             2           2   \n",
      "3             3             3             3           3   \n",
      "4             4             4             4           4   \n",
      "\n",
      "                                    Name_anime                         Genre  \\\n",
      "0                                    One Piece  Animation, Action, Adventure   \n",
      "1  Teenage Mutant Ninja Turtles: Mutant Mayhem  Animation, Action, Adventure   \n",
      "2                  The Super Mario Bros. Movie  Animation, Adventure, Comedy   \n",
      "3                              Attack on Titan  Animation, Action, Adventure   \n",
      "4                               Jujutsu Kaisen  Animation, Action, Adventure   \n",
      "\n",
      "   User Rating Number of Votes Runtime         Year  \\\n",
      "0          8.9         187,689  24 min     (1999– )   \n",
      "1          7.4          28,895  99 min       (2023)   \n",
      "2          7.1         189,108  92 min       (2023)   \n",
      "3          9.1         434,457  24 min  (2013–2023)   \n",
      "4          8.5          82,909  24 min     (2020– )   \n",
      "\n",
      "                                             Summary  \\\n",
      "0  Follows the adventures of Monkey D. Luffy and ...   \n",
      "1  The film follows the Turtle brothers as they w...   \n",
      "2  A plumber named Mario travels through an under...   \n",
      "3  After his hometown is destroyed and his mother...   \n",
      "4  A boy swallows a cursed talisman - the finger ...   \n",
      "\n",
      "                                              Acters Certificate  Metascore  \\\n",
      "0  Mayumi Tanaka,Laurent Vernin,Akemi Okamura,Ton...       TV-14        NaN   \n",
      "1                                                NaN          PG       74.0   \n",
      "2                                                NaN          PG       46.0   \n",
      "3  Josh Grelle,Bryce Papenbrook,Yûki Kaji,Yui Ish...       TV-MA        NaN   \n",
      "4  Junya Enoki,Yûichi Nakamura,Adam McArthur,Yuma...       TV-MA        NaN   \n",
      "\n",
      "      Gross  Episode  Episode Title  \n",
      "0  187689.0        0            NaN  \n",
      "1   28895.0        0            NaN  \n",
      "2  189108.0        0            NaN  \n",
      "3  434457.0        0            NaN  \n",
      "4   82909.0        0            NaN  \n"
     ]
    }
   ],
   "source": [
    "dt=Baze(r\"C:\\Users\\Professional\\Desktop\\староста и бредни\\информатика\\лаб.15\\anime.csv\")\n",
    "#Задание 1\n",
    "dt.Info()\n"
   ]
  },
  {
   "cell_type": "code",
   "execution_count": 92,
   "metadata": {},
   "outputs": [
    {
     "name": "stdout",
     "output_type": "stream",
     "text": [
      "Index(['Unnamed: 0.3', 'Unnamed: 0.2', 'Unnamed: 0.1', 'Unnamed: 0',\n",
      "       'Name_anime', 'Genre', 'User Rating', 'Number of Votes', 'Runtime',\n",
      "       'Year', 'Summary', 'Acters', 'Certificate', 'Metascore', 'Gross',\n",
      "       'Episode', 'Episode Title'],\n",
      "      dtype='object')\n",
      "Index(['Unnamed: 0.3', 'Unnamed: 0.2', 'Unnamed: 0.1', 'Unnamed: 0',\n",
      "       'Name_anime', 'Genre', 'User Rating', 'Number of Votes', 'Runtime',\n",
      "       'Year', 'Summary', 'Acters', 'Certificate', 'Metascore', 'Gross',\n",
      "       'Episode', 'Episode Title'],\n",
      "      dtype='object')\n"
     ]
    }
   ],
   "source": [
    "dt.New_Name(\"Stars\",\"Acters\")\n"
   ]
  },
  {
   "cell_type": "code",
   "execution_count": 93,
   "metadata": {},
   "outputs": [
    {
     "name": "stdout",
     "output_type": "stream",
     "text": [
      "Index(['Unnamed: 0.3', 'Unnamed: 0.2', 'Unnamed: 0.1', 'Unnamed: 0',\n",
      "       'Name_anime', 'Genre', 'User Rating', 'Number of Votes', 'Runtime',\n",
      "       'Year', 'Summary', 'Acters', 'Certificate', 'Metascore', 'Gross',\n",
      "       'Episode', 'Episode Title'],\n",
      "      dtype='object')\n",
      "Index(['Unnamed: 0.3', 'Unnamed: 0.2', 'Unnamed: 0.1', 'Unnamed: 0',\n",
      "       'Name_anime', 'Genre', 'User Rating', 'Number of Votes', 'Runtime',\n",
      "       'Year', 'Summary', 'Acters', 'Certificate', 'Metascore', 'Gross',\n",
      "       'Episode', 'Episode Title'],\n",
      "      dtype='object')\n"
     ]
    }
   ],
   "source": [
    "dt.New_Name(\"Title\",\"Name_anime\")\n"
   ]
  },
  {
   "cell_type": "code",
   "execution_count": 94,
   "metadata": {},
   "outputs": [
    {
     "name": "stdout",
     "output_type": "stream",
     "text": [
      "   Unnamed: 0.3  Unnamed: 0.2  Unnamed: 0.1  Unnamed: 0  \\\n",
      "0             0             0             0           0   \n",
      "1             1             1             1           1   \n",
      "2             2             2             2           2   \n",
      "3             3             3             3           3   \n",
      "4             4             4             4           4   \n",
      "\n",
      "                                    Name_anime                         Genre  \\\n",
      "0                                    One Piece  Animation, Action, Adventure   \n",
      "1  Teenage Mutant Ninja Turtles: Mutant Mayhem  Animation, Action, Adventure   \n",
      "2                  The Super Mario Bros. Movie  Animation, Adventure, Comedy   \n",
      "3                              Attack on Titan  Animation, Action, Adventure   \n",
      "4                               Jujutsu Kaisen  Animation, Action, Adventure   \n",
      "\n",
      "   User Rating Number of Votes Runtime         Year  \\\n",
      "0          8.9         187,689  24 min     (1999– )   \n",
      "1          7.4          28,895  99 min       (2023)   \n",
      "2          7.1         189,108  92 min       (2023)   \n",
      "3          9.1         434,457  24 min  (2013–2023)   \n",
      "4          8.5          82,909  24 min     (2020– )   \n",
      "\n",
      "                                             Summary  \\\n",
      "0  Follows the adventures of Monkey D. Luffy and ...   \n",
      "1  The film follows the Turtle brothers as they w...   \n",
      "2  A plumber named Mario travels through an under...   \n",
      "3  After his hometown is destroyed and his mother...   \n",
      "4  A boy swallows a cursed talisman - the finger ...   \n",
      "\n",
      "                                              Acters Certificate  Metascore  \\\n",
      "0  Mayumi Tanaka,Laurent Vernin,Akemi Okamura,Ton...       TV-14        NaN   \n",
      "1                                                NaN          PG       74.0   \n",
      "2                                                NaN          PG       46.0   \n",
      "3  Josh Grelle,Bryce Papenbrook,Yûki Kaji,Yui Ish...       TV-MA        NaN   \n",
      "4  Junya Enoki,Yûichi Nakamura,Adam McArthur,Yuma...       TV-MA        NaN   \n",
      "\n",
      "      Gross  Episode Episode Title  \n",
      "0  187689.0        0       \\(0o0)/  \n",
      "1   28895.0        0       \\(0o0)/  \n",
      "2  189108.0        0       \\(0o0)/  \n",
      "3  434457.0        0       \\(0o0)/  \n",
      "4   82909.0        0       \\(0o0)/  \n"
     ]
    }
   ],
   "source": [
    "dt.New_value()\n"
   ]
  },
  {
   "cell_type": "code",
   "execution_count": 95,
   "metadata": {},
   "outputs": [
    {
     "name": "stdout",
     "output_type": "stream",
     "text": [
      "   Unnamed: 0.3  Unnamed: 0.2  Unnamed: 0.1  Unnamed: 0  \\\n",
      "0             0             0             0           0   \n",
      "1             1             1             1           1   \n",
      "2             2             2             2           2   \n",
      "3             3             3             3           3   \n",
      "4             4             4             4           4   \n",
      "\n",
      "                                    Name_anime                         Genre  \\\n",
      "0                                    One Piece  Animation, Action, Adventure   \n",
      "1  Teenage Mutant Ninja Turtles: Mutant Mayhem  Animation, Action, Adventure   \n",
      "2                  The Super Mario Bros. Movie  Animation, Adventure, Comedy   \n",
      "3                              Attack on Titan  Animation, Action, Adventure   \n",
      "4                               Jujutsu Kaisen  Animation, Action, Adventure   \n",
      "\n",
      "   User Rating Number of Votes Runtime         Year  \\\n",
      "0          8.9         187,689  24 min     (1999– )   \n",
      "1          7.4          28,895  99 min       (2023)   \n",
      "2          7.1         189,108  92 min       (2023)   \n",
      "3          9.1         434,457  24 min  (2013–2023)   \n",
      "4          8.5          82,909  24 min     (2020– )   \n",
      "\n",
      "                                             Summary  \\\n",
      "0  Follows the adventures of Monkey D. Luffy and ...   \n",
      "1  The film follows the Turtle brothers as they w...   \n",
      "2  A plumber named Mario travels through an under...   \n",
      "3  After his hometown is destroyed and his mother...   \n",
      "4  A boy swallows a cursed talisman - the finger ...   \n",
      "\n",
      "                                              Acters Certificate  Metascore  \\\n",
      "0  Mayumi Tanaka,Laurent Vernin,Akemi Okamura,Ton...       TV-14        NaN   \n",
      "1                                                NaN          PG       74.0   \n",
      "2                                                NaN          PG       46.0   \n",
      "3  Josh Grelle,Bryce Papenbrook,Yûki Kaji,Yui Ish...       TV-MA        NaN   \n",
      "4  Junya Enoki,Yûichi Nakamura,Adam McArthur,Yuma...       TV-MA        NaN   \n",
      "\n",
      "      Gross  Episode Episode Title New_column  \n",
      "0  187689.0        0       \\(0o0)/  0\\(0o0)/0  \n",
      "1   28895.0        0       \\(0o0)/  0\\(0o0)/0  \n",
      "2  189108.0        0       \\(0o0)/  0\\(0o0)/0  \n",
      "3  434457.0        0       \\(0o0)/  0\\(0o0)/0  \n",
      "4   82909.0        0       \\(0o0)/  0\\(0o0)/0  \n"
     ]
    }
   ],
   "source": [
    "#Задание 2\n",
    "dt.New_column()\n"
   ]
  },
  {
   "cell_type": "code",
   "execution_count": 96,
   "metadata": {},
   "outputs": [
    {
     "ename": "TypeError",
     "evalue": "'builtin_function_or_method' object is not subscriptable",
     "output_type": "error",
     "traceback": [
      "\u001b[1;31m---------------------------------------------------------------------------\u001b[0m",
      "\u001b[1;31mTypeError\u001b[0m                                 Traceback (most recent call last)",
      "\u001b[1;32mc:\\Users\\Professional\\Desktop\\староста и бредни\\информатика\\лаб.15\\test.ipynb Cell 9\u001b[0m line \u001b[0;36m2\n\u001b[0;32m      <a href='vscode-notebook-cell:/c%3A/Users/Professional/Desktop/%D1%81%D1%82%D0%B0%D1%80%D0%BE%D1%81%D1%82%D0%B0%20%D0%B8%20%D0%B1%D1%80%D0%B5%D0%B4%D0%BD%D0%B8/%D0%B8%D0%BD%D1%84%D0%BE%D1%80%D0%BC%D0%B0%D1%82%D0%B8%D0%BA%D0%B0/%D0%BB%D0%B0%D0%B1.15/test.ipynb#X11sZmlsZQ%3D%3D?line=0'>1</a>\u001b[0m \u001b[39m#Задание 3\u001b[39;00m\n\u001b[1;32m----> <a href='vscode-notebook-cell:/c%3A/Users/Professional/Desktop/%D1%81%D1%82%D0%B0%D1%80%D0%BE%D1%81%D1%82%D0%B0%20%D0%B8%20%D0%B1%D1%80%D0%B5%D0%B4%D0%BD%D0%B8/%D0%B8%D0%BD%D1%84%D0%BE%D1%80%D0%BC%D0%B0%D1%82%D0%B8%D0%BA%D0%B0/%D0%BB%D0%B0%D0%B1.15/test.ipynb#X11sZmlsZQ%3D%3D?line=1'>2</a>\u001b[0m dt\u001b[39m.\u001b[39;49mMathem()\n",
      "\u001b[1;32mc:\\Users\\Professional\\Desktop\\староста и бредни\\информатика\\лаб.15\\test.ipynb Cell 9\u001b[0m line \u001b[0;36m3\n\u001b[0;32m     <a href='vscode-notebook-cell:/c%3A/Users/Professional/Desktop/%D1%81%D1%82%D0%B0%D1%80%D0%BE%D1%81%D1%82%D0%B0%20%D0%B8%20%D0%B1%D1%80%D0%B5%D0%B4%D0%BD%D0%B8/%D0%B8%D0%BD%D1%84%D0%BE%D1%80%D0%BC%D0%B0%D1%82%D0%B8%D0%BA%D0%B0/%D0%BB%D0%B0%D0%B1.15/test.ipynb#X11sZmlsZQ%3D%3D?line=26'>27</a>\u001b[0m numeric_columns \u001b[39m=\u001b[39m [\u001b[39m'\u001b[39m\u001b[39mUser Rating\u001b[39m\u001b[39m'\u001b[39m, \u001b[39m'\u001b[39m\u001b[39mNumber of Votes\u001b[39m\u001b[39m'\u001b[39m, \u001b[39m'\u001b[39m\u001b[39mRuntime\u001b[39m\u001b[39m'\u001b[39m, \u001b[39m'\u001b[39m\u001b[39mMetascore\u001b[39m\u001b[39m'\u001b[39m, \u001b[39m'\u001b[39m\u001b[39mGross\u001b[39m\u001b[39m'\u001b[39m]\n\u001b[0;32m     <a href='vscode-notebook-cell:/c%3A/Users/Professional/Desktop/%D1%81%D1%82%D0%B0%D1%80%D0%BE%D1%81%D1%82%D0%B0%20%D0%B8%20%D0%B1%D1%80%D0%B5%D0%B4%D0%BD%D0%B8/%D0%B8%D0%BD%D1%84%D0%BE%D1%80%D0%BC%D0%B0%D1%82%D0%B8%D0%BA%D0%B0/%D0%BB%D0%B0%D0%B1.15/test.ipynb#X11sZmlsZQ%3D%3D?line=28'>29</a>\u001b[0m \u001b[39mfor\u001b[39;00m col \u001b[39min\u001b[39;00m numeric_columns:\n\u001b[1;32m---> <a href='vscode-notebook-cell:/c%3A/Users/Professional/Desktop/%D1%81%D1%82%D0%B0%D1%80%D0%BE%D1%81%D1%82%D0%B0%20%D0%B8%20%D0%B1%D1%80%D0%B5%D0%B4%D0%BD%D0%B8/%D0%B8%D0%BD%D1%84%D0%BE%D1%80%D0%BC%D0%B0%D1%82%D0%B8%D0%BA%D0%B0/%D0%BB%D0%B0%D0%B1.15/test.ipynb#X11sZmlsZQ%3D%3D?line=29'>30</a>\u001b[0m     \u001b[39msorted\u001b[39m[col] \u001b[39m=\u001b[39m \u001b[39msorted\u001b[39;49m[col]\u001b[39m.\u001b[39mastype(\u001b[39mstr\u001b[39m)\n\u001b[0;32m     <a href='vscode-notebook-cell:/c%3A/Users/Professional/Desktop/%D1%81%D1%82%D0%B0%D1%80%D0%BE%D1%81%D1%82%D0%B0%20%D0%B8%20%D0%B1%D1%80%D0%B5%D0%B4%D0%BD%D0%B8/%D0%B8%D0%BD%D1%84%D0%BE%D1%80%D0%BC%D0%B0%D1%82%D0%B8%D0%BA%D0%B0/%D0%BB%D0%B0%D0%B1.15/test.ipynb#X11sZmlsZQ%3D%3D?line=30'>31</a>\u001b[0m     \u001b[39msorted\u001b[39m[col]\u001b[39m.\u001b[39mapply(\u001b[39mlambda\u001b[39;00m x: x\u001b[39m.\u001b[39mreplace(\u001b[39m\"\u001b[39m\u001b[39m,\u001b[39m\u001b[39m\"\u001b[39m, \u001b[39m\"\u001b[39m\u001b[39m\"\u001b[39m)\u001b[39m.\u001b[39mreplace(\u001b[39m\"\u001b[39m\u001b[39m \u001b[39m\u001b[39m\"\u001b[39m, \u001b[39m\"\u001b[39m\u001b[39m\"\u001b[39m)\u001b[39m.\u001b[39mreplace(\u001b[39m\"\u001b[39m\u001b[39mnan\u001b[39m\u001b[39m\"\u001b[39m, \u001b[39m\"\u001b[39m\u001b[39m0\u001b[39m\u001b[39m\"\u001b[39m))\n\u001b[0;32m     <a href='vscode-notebook-cell:/c%3A/Users/Professional/Desktop/%D1%81%D1%82%D0%B0%D1%80%D0%BE%D1%81%D1%82%D0%B0%20%D0%B8%20%D0%B1%D1%80%D0%B5%D0%B4%D0%BD%D0%B8/%D0%B8%D0%BD%D1%84%D0%BE%D1%80%D0%BC%D0%B0%D1%82%D0%B8%D0%BA%D0%B0/%D0%BB%D0%B0%D0%B1.15/test.ipynb#X11sZmlsZQ%3D%3D?line=31'>32</a>\u001b[0m     \u001b[39msorted\u001b[39m[col]\u001b[39m.\u001b[39mastype(\u001b[39mfloat\u001b[39m)\n",
      "\u001b[1;31mTypeError\u001b[0m: 'builtin_function_or_method' object is not subscriptable"
     ]
    }
   ],
   "source": [
    "#Задание 3\n",
    "dt.Mathem()\n"
   ]
  },
  {
   "cell_type": "code",
   "execution_count": null,
   "metadata": {},
   "outputs": [
    {
     "name": "stdout",
     "output_type": "stream",
     "text": [
      "Сортировка по убыванию\n",
      "   User Rating     \n",
      "               mean\n",
      "0          4.8  4.8\n",
      "1          4.9  4.9\n",
      "2          5.0  5.0\n",
      "3          5.3  5.3\n",
      "4          5.4  5.4\n",
      "5          5.5  5.5\n",
      "6          5.6  5.6\n",
      "7          5.7  5.7\n",
      "8          5.8  5.8\n",
      "9          5.9  5.9\n",
      "10         6.0  6.0\n",
      "11         6.1  6.1\n",
      "12         6.2  6.2\n",
      "13         6.3  6.3\n",
      "14         6.4  6.4\n",
      "15         6.5  6.5\n",
      "16         6.6  6.6\n",
      "17         6.7  6.7\n",
      "18         6.8  6.8\n",
      "19         6.9  6.9\n",
      "20         7.0  7.0\n",
      "21         7.1  7.1\n",
      "22         7.2  7.2\n",
      "23         7.3  7.3\n",
      "24         7.4  7.4\n",
      "25         7.5  7.5\n",
      "26         7.6  7.6\n",
      "27         7.7  7.7\n",
      "28         7.8  7.8\n",
      "29         7.9  7.9\n",
      "30         8.0  8.0\n",
      "31         8.1  8.1\n",
      "32         8.2  8.2\n",
      "33         8.3  8.3\n",
      "34         8.4  8.4\n",
      "35         8.5  8.5\n",
      "36         8.6  8.6\n",
      "37         8.7  8.7\n",
      "38         8.8  8.8\n",
      "39         8.9  8.9\n",
      "40         9.0  9.0\n",
      "41         9.1  9.1\n"
     ]
    },
    {
     "data": {
      "image/png": "[encoded data removed]",
      "text/plain": [
       "<Figure size 640x480 with 1 Axes>"
      ]
     },
     "metadata": {},
     "output_type": "display_data"
    }
   ],
   "source": [
    "#Задание 3\n",
    "dt.Group()\n"
   ]
  },
  {
   "cell_type": "code",
   "execution_count": null,
   "metadata": {},
   "outputs": [
    {
     "name": "stdout",
     "output_type": "stream",
     "text": [
      "<class 'pandas.core.series.Series'>\n",
      "RangeIndex: 500 entries, 0 to 499\n",
      "Series name: Runtime\n",
      "Non-Null Count  Dtype\n",
      "--------------  -----\n",
      "500 non-null    int32\n",
      "dtypes: int32(1)\n",
      "memory usage: 2.1 KB\n",
      "Уникальные значения: \n",
      "[24 20 25 23 22 26 21 16 15]\n",
      "Количество дубликатов: \n",
      "Runtime\n",
      "24    139\n",
      "23     46\n",
      "25     37\n",
      "22      8\n",
      "26      3\n",
      "20      2\n",
      "21      2\n",
      "16      2\n",
      "15      1\n",
      "Name: count, dtype: int64\n"
     ]
    },
    {
     "name": "stderr",
     "output_type": "stream",
     "text": [
      "C:\\Users\\Professional\\AppData\\Local\\Temp\\ipykernel_1340\\2551586440.py:49: FutureWarning: Setting an item of incompatible dtype is deprecated and will raise in a future error of pandas. Value '0 min' has dtype incompatible with float64, please explicitly cast to a compatible dtype first.\n",
      "  self.file[self.file[\"Runtime\"].isnull() == True] = \"0 min\"\n",
      "C:\\Users\\Professional\\AppData\\Local\\Temp\\ipykernel_1340\\2551586440.py:49: FutureWarning: Setting an item of incompatible dtype is deprecated and will raise in a future error of pandas. Value '0 min' has dtype incompatible with int64, please explicitly cast to a compatible dtype first.\n",
      "  self.file[self.file[\"Runtime\"].isnull() == True] = \"0 min\"\n"
     ]
    }
   ],
   "source": [
    "#Задание 4\n",
    "dt.filtr()\n"
   ]
  },
  {
   "cell_type": "code",
   "execution_count": null,
   "metadata": {},
   "outputs": [
    {
     "ename": "TypeError",
     "evalue": "'builtin_function_or_method' object is not subscriptable",
     "output_type": "error",
     "traceback": [
      "\u001b[1;31m---------------------------------------------------------------------------\u001b[0m",
      "\u001b[1;31mTypeError\u001b[0m                                 Traceback (most recent call last)",
      "\u001b[1;32mc:\\Users\\Professional\\Desktop\\староста и бредни\\информатика\\лаб.15\\test.ipynb Cell 12\u001b[0m line \u001b[0;36m2\n\u001b[0;32m      <a href='vscode-notebook-cell:/c%3A/Users/Professional/Desktop/%D1%81%D1%82%D0%B0%D1%80%D0%BE%D1%81%D1%82%D0%B0%20%D0%B8%20%D0%B1%D1%80%D0%B5%D0%B4%D0%BD%D0%B8/%D0%B8%D0%BD%D1%84%D0%BE%D1%80%D0%BC%D0%B0%D1%82%D0%B8%D0%BA%D0%B0/%D0%BB%D0%B0%D0%B1.15/test.ipynb#X14sZmlsZQ%3D%3D?line=0'>1</a>\u001b[0m \u001b[39m#Задание 5\u001b[39;00m\n\u001b[1;32m----> <a href='vscode-notebook-cell:/c%3A/Users/Professional/Desktop/%D1%81%D1%82%D0%B0%D1%80%D0%BE%D1%81%D1%82%D0%B0%20%D0%B8%20%D0%B1%D1%80%D0%B5%D0%B4%D0%BD%D0%B8/%D0%B8%D0%BD%D1%84%D0%BE%D1%80%D0%BC%D0%B0%D1%82%D0%B8%D0%BA%D0%B0/%D0%BB%D0%B0%D0%B1.15/test.ipynb#X14sZmlsZQ%3D%3D?line=1'>2</a>\u001b[0m dt\u001b[39m.\u001b[39;49mGraf()\n",
      "\u001b[1;32mc:\\Users\\Professional\\Desktop\\староста и бредни\\информатика\\лаб.15\\test.ipynb Cell 12\u001b[0m line \u001b[0;36m6\n\u001b[0;32m     <a href='vscode-notebook-cell:/c%3A/Users/Professional/Desktop/%D1%81%D1%82%D0%B0%D1%80%D0%BE%D1%81%D1%82%D0%B0%20%D0%B8%20%D0%B1%D1%80%D0%B5%D0%B4%D0%BD%D0%B8/%D0%B8%D0%BD%D1%84%D0%BE%D1%80%D0%BC%D0%B0%D1%82%D0%B8%D0%BA%D0%B0/%D0%BB%D0%B0%D0%B1.15/test.ipynb#X14sZmlsZQ%3D%3D?line=59'>60</a>\u001b[0m \u001b[39mdef\u001b[39;00m \u001b[39mGraf\u001b[39m(\u001b[39mself\u001b[39m):\n\u001b[1;32m---> <a href='vscode-notebook-cell:/c%3A/Users/Professional/Desktop/%D1%81%D1%82%D0%B0%D1%80%D0%BE%D1%81%D1%82%D0%B0%20%D0%B8%20%D0%B1%D1%80%D0%B5%D0%B4%D0%BD%D0%B8/%D0%B8%D0%BD%D1%84%D0%BE%D1%80%D0%BC%D0%B0%D1%82%D0%B8%D0%BA%D0%B0/%D0%BB%D0%B0%D0%B1.15/test.ipynb#X14sZmlsZQ%3D%3D?line=60'>61</a>\u001b[0m     \u001b[39msorted\u001b[39;49m[\u001b[39m\"\u001b[39;49m\u001b[39mRuntime\u001b[39;49m\u001b[39m\"\u001b[39;49m]\u001b[39m.\u001b[39mvalue_counts()\u001b[39m.\u001b[39mplot\u001b[39m.\u001b[39mbar()\n",
      "\u001b[1;31mTypeError\u001b[0m: 'builtin_function_or_method' object is not subscriptable"
     ]
    }
   ],
   "source": [
    "#Задание 5\n",
    "dt.Graf()\n"
   ]
  },
  {
   "cell_type": "code",
   "execution_count": null,
   "metadata": {},
   "outputs": [],
   "source": [
    "#Задание 6\n",
    "dt.Svod_table()\n"
   ]
  }
 ],
 "metadata": {
  "kernelspec": {
   "display_name": "Python 3",
   "language": "python",
   "name": "python3"
  },
  "language_info": {
   "codemirror_mode": {
    "name": "ipython",
    "version": 3
   },
   "file_extension": ".py",
   "mimetype": "text/x-python",
   "name": "python",
   "nbconvert_exporter": "python",
   "pygments_lexer": "ipython3",
   "version": "3.11.5"
  },
  "orig_nbformat": 4
 },
 "nbformat": 4,
 "nbformat_minor": 2
}
