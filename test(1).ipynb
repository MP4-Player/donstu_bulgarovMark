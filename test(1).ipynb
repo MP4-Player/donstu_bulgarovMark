{
 "cells": [
  {
   "cell_type": "code",
   "execution_count": 157,
   "metadata": {},
   "outputs": [],
   "source": [
    "import pandas as pd \n",
    "import numpy as np\n",
    "import random \n",
    "import matplotlib.pyplot as plt\n",
    "from mpl_toolkits.mplot3d import Axes3D"
   ]
  },
  {
   "cell_type": "code",
   "execution_count": null,
   "metadata": {},
   "outputs": [],
   "source": []
  },
  {
   "cell_type": "code",
   "execution_count": 158,
   "metadata": {},
   "outputs": [],
   "source": [
    "class Baze:\n",
    "    def __init__(self,file):\n",
    "        self.file=pd.read_csv(file, delimiter=\",\", nrows=500)\n",
    "        #self.file[\"Number\"]=[random.randint(0, 50) for i in range(500)]\n",
    "        #self.file[\"User Rating\"]=pd.to_numeric(self.file[\"User Rating\"])\n",
    "\n",
    "    def Info(self):\n",
    "        print(self.file[:5])       \n",
    "\n",
    "    def New_Name(self, start_title, new_title):\n",
    "        print(self.file.columns)\n",
    "        self.file.rename(columns={start_title: new_title}, inplace=True)\n",
    "        print(self.file.columns)\n",
    "        self.file.to_csv(\"anime.csv\")\n",
    "        \n",
    "\n",
    "    def New_value(self):\n",
    "        self.file[\"Episode Title\"]=self.file[\"Episode Title\"].fillna(\"\\(0o0)/\")\n",
    "        self.Info()\n",
    "          \n",
    "\n",
    "    def New_column(self):\n",
    "        self.file[\"New_column\"]=self.file['Episode'].astype(str)+self.file[\"Episode Title\"]+\"0\"\n",
    "        print(self.file[:5])\n",
    "    \n",
    "    def Mathem(self):\n",
    "        \"\"\"BlockingIOErrorself.file[self.file[\"Runtime\"].isnull() == True] = \"0 min\"\n",
    "        self.file[\"Runtime\"] = self.file[\"Runtime\"].apply(lambda x: x.replace(\"min\", \"\").replace(\" \", \"\").replace(\",\", \"\"))\n",
    "        sorted = self.file[(pd.to_numeric(self.file[\"Runtime\"]) > 13) & (pd.to_numeric(self.file[\"Runtime\"]) < 28)]\n",
    "        numeric_columns = ['User Rating', 'Number of Votes', 'Runtime', 'Metascore', 'Gross']\n",
    "        for col in numeric_columns:\n",
    "            sorted[col] = sorted[col].astype(str)\n",
    "            sorted[col] = sorted[col].apply(lambda x: x.replace(\",\", \"\").replace(\" \", \"\").replace(\"nan\", \"0\"))\n",
    "            sorted[col] = sorted[col].astype(float)\n",
    "            print(sorted[col].agg(['min', 'max', 'mean', 'median']))\"\"\"\n",
    "        print(0)\n",
    "\n",
    "\n",
    "    def Group(self):\n",
    "        print(\"Сортировка по убыванию\")\n",
    "        #a=self.file.groupby([\"Genre\",\"User Rating\"], sort=True).agg({'Genre': [\"mean\"]}).reset_index()\n",
    "        #self.file[self.file[\"Runtime\"].isnull() == True] = \"0 min\"\n",
    "        #a = pd.to_numeric(self.file[\"Runtime\"].apply(lambda x: x.replace(\"min\", \"\").replace(\" \", \"\").replace(\",\", \"\")))\n",
    "        \n",
    "        a=self.file.groupby(\"Genre\", sort=False)[\"User Rating\"].mean()\n",
    "        print(a)\n",
    "        #a.plot(kind=\"bar\")\n",
    "\n",
    "    \n",
    "    def filtr(self):\n",
    "        self.file[self.file[\"Runtime\"].isnull() == True] = \"0 min\"\n",
    "        #self.file[\"Runtime\"] = self.file[\"Runtime\"].apply(lambda x: x.replace(\"min\", \"\").replace(\" \", \"\").replace(\",\", \"\"))\n",
    "        self.file[\"Runtime\"].unique()\n",
    "        self.file[\"Runtime\"] = self.file[\"Runtime\"].astype(int)\n",
    "        self.file[\"Runtime\"].info()\n",
    "        sorted = self.file[(self.file[\"Runtime\"] > 13) & (self.file[\"Runtime\"] < 28)]\n",
    "        print(\"Уникальные значения: \")\n",
    "        print(sorted[\"Runtime\"].unique())\n",
    "        print(\"Количество дубликатов: \")\n",
    "        print(sorted[\"Runtime\"].value_counts())\n",
    "\n",
    "    def Graf(self):\n",
    "        sorted = self.file[(pd.to_numeric(self.file[\"Runtime\"]) > 13) & (pd.to_numeric(self.file[\"Runtime\"]) < 28)]\n",
    "        sorted[\"Runtime\"].value_counts().plot.bar()\n",
    "\n",
    "    def Svod_table(self):\n",
    "        # Выберем только числовые столбцы для анализа\n",
    "        sorted = self.file[(pd.to_numeric(self.file[\"Runtime\"]) > 13) & (pd.to_numeric(self.file[\"Runtime\"]) < 28)]\n",
    "        numeric_columns = ['User Rating', 'Number of Votes', 'Runtime', 'Metascore', 'Gross']\n",
    "        for col in numeric_columns:\n",
    "            sorted[col] = sorted[col].astype(str)\n",
    "            sorted[col] = sorted[col].apply(lambda x: x.replace(\",\", \"\").replace(\" \", \"\").replace(\"nan\", \"0\"))\n",
    "            sorted[col] = sorted[col].astype(float)\n",
    "        # Создадим перекрестную выборку с агрегированными значениями\n",
    "        cross_data = sorted[numeric_columns].agg(['min', 'max', 'mean', 'median'])\n",
    "        # Выведем перекрестную выборку\n",
    "        print(cross_data)\n"
   ]
  },
  {
   "cell_type": "code",
   "execution_count": 159,
   "metadata": {},
   "outputs": [
    {
     "name": "stdout",
     "output_type": "stream",
     "text": [
      "                                         Title                         Genre  \\\n",
      "0                                    One Piece  Animation, Action, Adventure   \n",
      "1  Teenage Mutant Ninja Turtles: Mutant Mayhem  Animation, Action, Adventure   \n",
      "2                  The Super Mario Bros. Movie  Animation, Adventure, Comedy   \n",
      "3                              Attack on Titan  Animation, Action, Adventure   \n",
      "4                               Jujutsu Kaisen  Animation, Action, Adventure   \n",
      "\n",
      "   User Rating Number of Votes Runtime         Year  \\\n",
      "0          8.9         187,689  24 min     (1999– )   \n",
      "1          7.4          28,895  99 min       (2023)   \n",
      "2          7.1         189,108  92 min       (2023)   \n",
      "3          9.1         434,457  24 min  (2013–2023)   \n",
      "4          8.5          82,909  24 min     (2020– )   \n",
      "\n",
      "                                             Summary  \\\n",
      "0  Follows the adventures of Monkey D. Luffy and ...   \n",
      "1  The film follows the Turtle brothers as they w...   \n",
      "2  A plumber named Mario travels through an under...   \n",
      "3  After his hometown is destroyed and his mother...   \n",
      "4  A boy swallows a cursed talisman - the finger ...   \n",
      "\n",
      "                                               Stars Certificate  Metascore  \\\n",
      "0  Mayumi Tanaka,Laurent Vernin,Akemi Okamura,Ton...       TV-14        NaN   \n",
      "1                                                NaN          PG       74.0   \n",
      "2                                                NaN          PG       46.0   \n",
      "3  Josh Grelle,Bryce Papenbrook,Yûki Kaji,Yui Ish...       TV-MA        NaN   \n",
      "4  Junya Enoki,Yûichi Nakamura,Adam McArthur,Yuma...       TV-MA        NaN   \n",
      "\n",
      "      Gross  Episode  Episode Title  \n",
      "0  187689.0        0            NaN  \n",
      "1   28895.0        0            NaN  \n",
      "2  189108.0        0            NaN  \n",
      "3  434457.0        0            NaN  \n",
      "4   82909.0        0            NaN  \n"
     ]
    }
   ],
   "source": [
    "dt=Baze(r\"C:\\Users\\Professional\\Desktop\\староста и бредни\\информатика\\лаб.15\\imdb_anime.csv\")\n",
    "#Задание 1\n",
    "dt.Info()\n"
   ]
  },
  {
   "cell_type": "code",
   "execution_count": 160,
   "metadata": {},
   "outputs": [
    {
     "name": "stdout",
     "output_type": "stream",
     "text": [
      "Index(['Title', 'Genre', 'User Rating', 'Number of Votes', 'Runtime', 'Year',\n",
      "       'Summary', 'Stars', 'Certificate', 'Metascore', 'Gross', 'Episode',\n",
      "       'Episode Title'],\n",
      "      dtype='object')\n",
      "Index(['Title', 'Genre', 'User Rating', 'Number of Votes', 'Runtime', 'Year',\n",
      "       'Summary', 'Acters', 'Certificate', 'Metascore', 'Gross', 'Episode',\n",
      "       'Episode Title'],\n",
      "      dtype='object')\n"
     ]
    }
   ],
   "source": [
    "dt.New_Name(\"Stars\",\"Acters\")\n"
   ]
  },
  {
   "cell_type": "code",
   "execution_count": 161,
   "metadata": {},
   "outputs": [
    {
     "name": "stdout",
     "output_type": "stream",
     "text": [
      "Index(['Title', 'Genre', 'User Rating', 'Number of Votes', 'Runtime', 'Year',\n",
      "       'Summary', 'Acters', 'Certificate', 'Metascore', 'Gross', 'Episode',\n",
      "       'Episode Title'],\n",
      "      dtype='object')\n",
      "Index(['Name_anime', 'Genre', 'User Rating', 'Number of Votes', 'Runtime',\n",
      "       'Year', 'Summary', 'Acters', 'Certificate', 'Metascore', 'Gross',\n",
      "       'Episode', 'Episode Title'],\n",
      "      dtype='object')\n"
     ]
    }
   ],
   "source": [
    "dt.New_Name(\"Title\",\"Name_anime\")\n"
   ]
  },
  {
   "cell_type": "code",
   "execution_count": 162,
   "metadata": {},
   "outputs": [
    {
     "name": "stdout",
     "output_type": "stream",
     "text": [
      "                                    Name_anime                         Genre  \\\n",
      "0                                    One Piece  Animation, Action, Adventure   \n",
      "1  Teenage Mutant Ninja Turtles: Mutant Mayhem  Animation, Action, Adventure   \n",
      "2                  The Super Mario Bros. Movie  Animation, Adventure, Comedy   \n",
      "3                              Attack on Titan  Animation, Action, Adventure   \n",
      "4                               Jujutsu Kaisen  Animation, Action, Adventure   \n",
      "\n",
      "   User Rating Number of Votes Runtime         Year  \\\n",
      "0          8.9         187,689  24 min     (1999– )   \n",
      "1          7.4          28,895  99 min       (2023)   \n",
      "2          7.1         189,108  92 min       (2023)   \n",
      "3          9.1         434,457  24 min  (2013–2023)   \n",
      "4          8.5          82,909  24 min     (2020– )   \n",
      "\n",
      "                                             Summary  \\\n",
      "0  Follows the adventures of Monkey D. Luffy and ...   \n",
      "1  The film follows the Turtle brothers as they w...   \n",
      "2  A plumber named Mario travels through an under...   \n",
      "3  After his hometown is destroyed and his mother...   \n",
      "4  A boy swallows a cursed talisman - the finger ...   \n",
      "\n",
      "                                              Acters Certificate  Metascore  \\\n",
      "0  Mayumi Tanaka,Laurent Vernin,Akemi Okamura,Ton...       TV-14        NaN   \n",
      "1                                                NaN          PG       74.0   \n",
      "2                                                NaN          PG       46.0   \n",
      "3  Josh Grelle,Bryce Papenbrook,Yûki Kaji,Yui Ish...       TV-MA        NaN   \n",
      "4  Junya Enoki,Yûichi Nakamura,Adam McArthur,Yuma...       TV-MA        NaN   \n",
      "\n",
      "      Gross  Episode Episode Title  \n",
      "0  187689.0        0       \\(0o0)/  \n",
      "1   28895.0        0       \\(0o0)/  \n",
      "2  189108.0        0       \\(0o0)/  \n",
      "3  434457.0        0       \\(0o0)/  \n",
      "4   82909.0        0       \\(0o0)/  \n"
     ]
    }
   ],
   "source": [
    "dt.New_value()\n"
   ]
  },
  {
   "cell_type": "code",
   "execution_count": 163,
   "metadata": {},
   "outputs": [
    {
     "name": "stdout",
     "output_type": "stream",
     "text": [
      "                                    Name_anime                         Genre  \\\n",
      "0                                    One Piece  Animation, Action, Adventure   \n",
      "1  Teenage Mutant Ninja Turtles: Mutant Mayhem  Animation, Action, Adventure   \n",
      "2                  The Super Mario Bros. Movie  Animation, Adventure, Comedy   \n",
      "3                              Attack on Titan  Animation, Action, Adventure   \n",
      "4                               Jujutsu Kaisen  Animation, Action, Adventure   \n",
      "\n",
      "   User Rating Number of Votes Runtime         Year  \\\n",
      "0          8.9         187,689  24 min     (1999– )   \n",
      "1          7.4          28,895  99 min       (2023)   \n",
      "2          7.1         189,108  92 min       (2023)   \n",
      "3          9.1         434,457  24 min  (2013–2023)   \n",
      "4          8.5          82,909  24 min     (2020– )   \n",
      "\n",
      "                                             Summary  \\\n",
      "0  Follows the adventures of Monkey D. Luffy and ...   \n",
      "1  The film follows the Turtle brothers as they w...   \n",
      "2  A plumber named Mario travels through an under...   \n",
      "3  After his hometown is destroyed and his mother...   \n",
      "4  A boy swallows a cursed talisman - the finger ...   \n",
      "\n",
      "                                              Acters Certificate  Metascore  \\\n",
      "0  Mayumi Tanaka,Laurent Vernin,Akemi Okamura,Ton...       TV-14        NaN   \n",
      "1                                                NaN          PG       74.0   \n",
      "2                                                NaN          PG       46.0   \n",
      "3  Josh Grelle,Bryce Papenbrook,Yûki Kaji,Yui Ish...       TV-MA        NaN   \n",
      "4  Junya Enoki,Yûichi Nakamura,Adam McArthur,Yuma...       TV-MA        NaN   \n",
      "\n",
      "      Gross  Episode Episode Title New_column  \n",
      "0  187689.0        0       \\(0o0)/  0\\(0o0)/0  \n",
      "1   28895.0        0       \\(0o0)/  0\\(0o0)/0  \n",
      "2  189108.0        0       \\(0o0)/  0\\(0o0)/0  \n",
      "3  434457.0        0       \\(0o0)/  0\\(0o0)/0  \n",
      "4   82909.0        0       \\(0o0)/  0\\(0o0)/0  \n"
     ]
    }
   ],
   "source": [
    "#Задание 2\n",
    "dt.New_column()\n"
   ]
  },
  {
   "cell_type": "code",
   "execution_count": 164,
   "metadata": {},
   "outputs": [
    {
     "name": "stdout",
     "output_type": "stream",
     "text": [
      "0\n"
     ]
    }
   ],
   "source": [
    "#Задание 3\n",
    "dt.Mathem()\n"
   ]
  },
  {
   "cell_type": "code",
   "execution_count": 165,
   "metadata": {},
   "outputs": [
    {
     "name": "stdout",
     "output_type": "stream",
     "text": [
      "Сортировка по убыванию\n",
      "Genre\n",
      "Animation, Action, Adventure     7.582558\n",
      "Animation, Adventure, Comedy     7.144444\n",
      "Animation, Drama, Family         7.680000\n",
      "Animation, Action, Drama         7.575000\n",
      "Animation, Adventure, Drama      7.186667\n",
      "Animation, Action, Comedy        7.959091\n",
      "Animation, Adventure, Family     7.327273\n",
      "Animation, Crime, Drama          8.266667\n",
      "Animation, Drama, Fantasy        7.890000\n",
      "Animation, Comedy, Family        7.566667\n",
      "Animation, Comedy, Drama         7.885714\n",
      "Animation, Family, Fantasy       6.975000\n",
      "Animation, Drama, War            8.500000\n",
      "Animation, Adventure, Mystery    8.000000\n",
      "Animation, Action, Fantasy       7.191667\n",
      "Animation, Action, Crime         7.450000\n",
      "Animation, Drama                 8.100000\n",
      "Animation, Biography, Drama      7.850000\n",
      "Animation, Comedy, Romance       7.436364\n",
      "Animation, Adventure, Sci-Fi     8.000000\n",
      "Animation, Sport, Thriller       8.300000\n",
      "Animation, Drama, Thriller       7.700000\n",
      "Animation, Drama, Horror         7.166667\n",
      "Animation, Action, Sport         7.400000\n",
      "Animation, Comedy                7.966667\n",
      "Animation, Action, Sci-Fi        6.766667\n",
      "Animation, Drama, Romance        6.860000\n",
      "Animation, Adventure, Fantasy    6.450000\n",
      "Animation, Sci-Fi, Thriller      7.500000\n",
      "Animation, Drama, Mystery        7.750000\n",
      "Animation, Comedy, Music         8.300000\n",
      "Animation, Comedy, Fantasy       6.950000\n",
      "Animation, Biography, Comedy     6.200000\n",
      "Animation, Comedy, Sport         8.200000\n",
      "Animation, Crime, Mystery        8.000000\n",
      "Animation, Short, Comedy         6.666667\n",
      "Animation, Short, Adventure      7.750000\n",
      "Animation, Fantasy, Horror       7.350000\n",
      "Animation, Comedy, Sci-Fi        8.600000\n",
      "Animation, Adventure                  NaN\n",
      "Animation, Action, Horror        6.150000\n",
      "Animation, Short, Action         7.600000\n",
      "Animation                        6.800000\n",
      "Animation, Comedy, Crime         8.400000\n",
      "Animation, Fantasy               6.800000\n",
      "Animation, Action, Thriller      8.300000\n",
      "Name: User Rating, dtype: float64\n"
     ]
    }
   ],
   "source": [
    "#Задание 3\n",
    "dt.Group()\n"
   ]
  },
  {
   "cell_type": "code",
   "execution_count": 166,
   "metadata": {},
   "outputs": [
    {
     "name": "stderr",
     "output_type": "stream",
     "text": [
      "C:\\Users\\Professional\\AppData\\Local\\Temp\\ipykernel_2752\\174971919.py:51: FutureWarning: Setting an item of incompatible dtype is deprecated and will raise in a future error of pandas. Value '0 min' has dtype incompatible with float64, please explicitly cast to a compatible dtype first.\n",
      "  self.file[self.file[\"Runtime\"].isnull() == True] = \"0 min\"\n",
      "C:\\Users\\Professional\\AppData\\Local\\Temp\\ipykernel_2752\\174971919.py:51: FutureWarning: Setting an item of incompatible dtype is deprecated and will raise in a future error of pandas. Value '0 min' has dtype incompatible with int64, please explicitly cast to a compatible dtype first.\n",
      "  self.file[self.file[\"Runtime\"].isnull() == True] = \"0 min\"\n"
     ]
    },
    {
     "ename": "ValueError",
     "evalue": "invalid literal for int() with base 10: '24 min'",
     "output_type": "error",
     "traceback": [
      "\u001b[1;31m---------------------------------------------------------------------------\u001b[0m",
      "\u001b[1;31mValueError\u001b[0m                                Traceback (most recent call last)",
      "\u001b[1;32mc:\\Users\\Professional\\Desktop\\староста и бредни\\информатика\\лаб.15\\test.ipynb Cell 11\u001b[0m line \u001b[0;36m2\n\u001b[0;32m      <a href='vscode-notebook-cell:/c%3A/Users/Professional/Desktop/%D1%81%D1%82%D0%B0%D1%80%D0%BE%D1%81%D1%82%D0%B0%20%D0%B8%20%D0%B1%D1%80%D0%B5%D0%B4%D0%BD%D0%B8/%D0%B8%D0%BD%D1%84%D0%BE%D1%80%D0%BC%D0%B0%D1%82%D0%B8%D0%BA%D0%B0/%D0%BB%D0%B0%D0%B1.15/test.ipynb#X13sZmlsZQ%3D%3D?line=0'>1</a>\u001b[0m \u001b[39m#Задание 4\u001b[39;00m\n\u001b[1;32m----> <a href='vscode-notebook-cell:/c%3A/Users/Professional/Desktop/%D1%81%D1%82%D0%B0%D1%80%D0%BE%D1%81%D1%82%D0%B0%20%D0%B8%20%D0%B1%D1%80%D0%B5%D0%B4%D0%BD%D0%B8/%D0%B8%D0%BD%D1%84%D0%BE%D1%80%D0%BC%D0%B0%D1%82%D0%B8%D0%BA%D0%B0/%D0%BB%D0%B0%D0%B1.15/test.ipynb#X13sZmlsZQ%3D%3D?line=1'>2</a>\u001b[0m dt\u001b[39m.\u001b[39;49mfiltr()\n",
      "\u001b[1;32mc:\\Users\\Professional\\Desktop\\староста и бредни\\информатика\\лаб.15\\test.ipynb Cell 11\u001b[0m line \u001b[0;36m5\n\u001b[0;32m     <a href='vscode-notebook-cell:/c%3A/Users/Professional/Desktop/%D1%81%D1%82%D0%B0%D1%80%D0%BE%D1%81%D1%82%D0%B0%20%D0%B8%20%D0%B1%D1%80%D0%B5%D0%B4%D0%BD%D0%B8/%D0%B8%D0%BD%D1%84%D0%BE%D1%80%D0%BC%D0%B0%D1%82%D0%B8%D0%BA%D0%B0/%D0%BB%D0%B0%D0%B1.15/test.ipynb#X13sZmlsZQ%3D%3D?line=51'>52</a>\u001b[0m \u001b[39m#self.file[\"Runtime\"] = self.file[\"Runtime\"].apply(lambda x: x.replace(\"min\", \"\").replace(\" \", \"\").replace(\",\", \"\"))\u001b[39;00m\n\u001b[0;32m     <a href='vscode-notebook-cell:/c%3A/Users/Professional/Desktop/%D1%81%D1%82%D0%B0%D1%80%D0%BE%D1%81%D1%82%D0%B0%20%D0%B8%20%D0%B1%D1%80%D0%B5%D0%B4%D0%BD%D0%B8/%D0%B8%D0%BD%D1%84%D0%BE%D1%80%D0%BC%D0%B0%D1%82%D0%B8%D0%BA%D0%B0/%D0%BB%D0%B0%D0%B1.15/test.ipynb#X13sZmlsZQ%3D%3D?line=52'>53</a>\u001b[0m \u001b[39mself\u001b[39m\u001b[39m.\u001b[39mfile[\u001b[39m\"\u001b[39m\u001b[39mRuntime\u001b[39m\u001b[39m\"\u001b[39m]\u001b[39m.\u001b[39munique()\n\u001b[1;32m---> <a href='vscode-notebook-cell:/c%3A/Users/Professional/Desktop/%D1%81%D1%82%D0%B0%D1%80%D0%BE%D1%81%D1%82%D0%B0%20%D0%B8%20%D0%B1%D1%80%D0%B5%D0%B4%D0%BD%D0%B8/%D0%B8%D0%BD%D1%84%D0%BE%D1%80%D0%BC%D0%B0%D1%82%D0%B8%D0%BA%D0%B0/%D0%BB%D0%B0%D0%B1.15/test.ipynb#X13sZmlsZQ%3D%3D?line=53'>54</a>\u001b[0m \u001b[39mself\u001b[39m\u001b[39m.\u001b[39mfile[\u001b[39m\"\u001b[39m\u001b[39mRuntime\u001b[39m\u001b[39m\"\u001b[39m] \u001b[39m=\u001b[39m \u001b[39mself\u001b[39;49m\u001b[39m.\u001b[39;49mfile[\u001b[39m\"\u001b[39;49m\u001b[39mRuntime\u001b[39;49m\u001b[39m\"\u001b[39;49m]\u001b[39m.\u001b[39;49mastype(\u001b[39mint\u001b[39;49m)\n\u001b[0;32m     <a href='vscode-notebook-cell:/c%3A/Users/Professional/Desktop/%D1%81%D1%82%D0%B0%D1%80%D0%BE%D1%81%D1%82%D0%B0%20%D0%B8%20%D0%B1%D1%80%D0%B5%D0%B4%D0%BD%D0%B8/%D0%B8%D0%BD%D1%84%D0%BE%D1%80%D0%BC%D0%B0%D1%82%D0%B8%D0%BA%D0%B0/%D0%BB%D0%B0%D0%B1.15/test.ipynb#X13sZmlsZQ%3D%3D?line=54'>55</a>\u001b[0m \u001b[39mself\u001b[39m\u001b[39m.\u001b[39mfile[\u001b[39m\"\u001b[39m\u001b[39mRuntime\u001b[39m\u001b[39m\"\u001b[39m]\u001b[39m.\u001b[39minfo()\n\u001b[0;32m     <a href='vscode-notebook-cell:/c%3A/Users/Professional/Desktop/%D1%81%D1%82%D0%B0%D1%80%D0%BE%D1%81%D1%82%D0%B0%20%D0%B8%20%D0%B1%D1%80%D0%B5%D0%B4%D0%BD%D0%B8/%D0%B8%D0%BD%D1%84%D0%BE%D1%80%D0%BC%D0%B0%D1%82%D0%B8%D0%BA%D0%B0/%D0%BB%D0%B0%D0%B1.15/test.ipynb#X13sZmlsZQ%3D%3D?line=55'>56</a>\u001b[0m \u001b[39msorted\u001b[39m \u001b[39m=\u001b[39m \u001b[39mself\u001b[39m\u001b[39m.\u001b[39mfile[(\u001b[39mself\u001b[39m\u001b[39m.\u001b[39mfile[\u001b[39m\"\u001b[39m\u001b[39mRuntime\u001b[39m\u001b[39m\"\u001b[39m] \u001b[39m>\u001b[39m \u001b[39m13\u001b[39m) \u001b[39m&\u001b[39m (\u001b[39mself\u001b[39m\u001b[39m.\u001b[39mfile[\u001b[39m\"\u001b[39m\u001b[39mRuntime\u001b[39m\u001b[39m\"\u001b[39m] \u001b[39m<\u001b[39m \u001b[39m28\u001b[39m)]\n",
      "File \u001b[1;32mc:\\Users\\Professional\\AppData\\Local\\Programs\\Python\\Python311\\Lib\\site-packages\\pandas\\core\\generic.py:6534\u001b[0m, in \u001b[0;36mNDFrame.astype\u001b[1;34m(self, dtype, copy, errors)\u001b[0m\n\u001b[0;32m   6530\u001b[0m     results \u001b[39m=\u001b[39m [ser\u001b[39m.\u001b[39mastype(dtype, copy\u001b[39m=\u001b[39mcopy) \u001b[39mfor\u001b[39;00m _, ser \u001b[39min\u001b[39;00m \u001b[39mself\u001b[39m\u001b[39m.\u001b[39mitems()]\n\u001b[0;32m   6532\u001b[0m \u001b[39melse\u001b[39;00m:\n\u001b[0;32m   6533\u001b[0m     \u001b[39m# else, only a single dtype is given\u001b[39;00m\n\u001b[1;32m-> 6534\u001b[0m     new_data \u001b[39m=\u001b[39m \u001b[39mself\u001b[39;49m\u001b[39m.\u001b[39;49m_mgr\u001b[39m.\u001b[39;49mastype(dtype\u001b[39m=\u001b[39;49mdtype, copy\u001b[39m=\u001b[39;49mcopy, errors\u001b[39m=\u001b[39;49merrors)\n\u001b[0;32m   6535\u001b[0m     res \u001b[39m=\u001b[39m \u001b[39mself\u001b[39m\u001b[39m.\u001b[39m_constructor_from_mgr(new_data, axes\u001b[39m=\u001b[39mnew_data\u001b[39m.\u001b[39maxes)\n\u001b[0;32m   6536\u001b[0m     \u001b[39mreturn\u001b[39;00m res\u001b[39m.\u001b[39m__finalize__(\u001b[39mself\u001b[39m, method\u001b[39m=\u001b[39m\u001b[39m\"\u001b[39m\u001b[39mastype\u001b[39m\u001b[39m\"\u001b[39m)\n",
      "File \u001b[1;32mc:\\Users\\Professional\\AppData\\Local\\Programs\\Python\\Python311\\Lib\\site-packages\\pandas\\core\\internals\\managers.py:414\u001b[0m, in \u001b[0;36mBaseBlockManager.astype\u001b[1;34m(self, dtype, copy, errors)\u001b[0m\n\u001b[0;32m    411\u001b[0m \u001b[39melif\u001b[39;00m using_copy_on_write():\n\u001b[0;32m    412\u001b[0m     copy \u001b[39m=\u001b[39m \u001b[39mFalse\u001b[39;00m\n\u001b[1;32m--> 414\u001b[0m \u001b[39mreturn\u001b[39;00m \u001b[39mself\u001b[39;49m\u001b[39m.\u001b[39;49mapply(\n\u001b[0;32m    415\u001b[0m     \u001b[39m\"\u001b[39;49m\u001b[39mastype\u001b[39;49m\u001b[39m\"\u001b[39;49m,\n\u001b[0;32m    416\u001b[0m     dtype\u001b[39m=\u001b[39;49mdtype,\n\u001b[0;32m    417\u001b[0m     copy\u001b[39m=\u001b[39;49mcopy,\n\u001b[0;32m    418\u001b[0m     errors\u001b[39m=\u001b[39;49merrors,\n\u001b[0;32m    419\u001b[0m     using_cow\u001b[39m=\u001b[39;49musing_copy_on_write(),\n\u001b[0;32m    420\u001b[0m )\n",
      "File \u001b[1;32mc:\\Users\\Professional\\AppData\\Local\\Programs\\Python\\Python311\\Lib\\site-packages\\pandas\\core\\internals\\managers.py:354\u001b[0m, in \u001b[0;36mBaseBlockManager.apply\u001b[1;34m(self, f, align_keys, **kwargs)\u001b[0m\n\u001b[0;32m    352\u001b[0m         applied \u001b[39m=\u001b[39m b\u001b[39m.\u001b[39mapply(f, \u001b[39m*\u001b[39m\u001b[39m*\u001b[39mkwargs)\n\u001b[0;32m    353\u001b[0m     \u001b[39melse\u001b[39;00m:\n\u001b[1;32m--> 354\u001b[0m         applied \u001b[39m=\u001b[39m \u001b[39mgetattr\u001b[39;49m(b, f)(\u001b[39m*\u001b[39;49m\u001b[39m*\u001b[39;49mkwargs)\n\u001b[0;32m    355\u001b[0m     result_blocks \u001b[39m=\u001b[39m extend_blocks(applied, result_blocks)\n\u001b[0;32m    357\u001b[0m out \u001b[39m=\u001b[39m \u001b[39mtype\u001b[39m(\u001b[39mself\u001b[39m)\u001b[39m.\u001b[39mfrom_blocks(result_blocks, \u001b[39mself\u001b[39m\u001b[39m.\u001b[39maxes)\n",
      "File \u001b[1;32mc:\\Users\\Professional\\AppData\\Local\\Programs\\Python\\Python311\\Lib\\site-packages\\pandas\\core\\internals\\blocks.py:616\u001b[0m, in \u001b[0;36mBlock.astype\u001b[1;34m(self, dtype, copy, errors, using_cow)\u001b[0m\n\u001b[0;32m    596\u001b[0m \u001b[39m\u001b[39m\u001b[39m\"\"\"\u001b[39;00m\n\u001b[0;32m    597\u001b[0m \u001b[39mCoerce to the new dtype.\u001b[39;00m\n\u001b[0;32m    598\u001b[0m \n\u001b[1;32m   (...)\u001b[0m\n\u001b[0;32m    612\u001b[0m \u001b[39mBlock\u001b[39;00m\n\u001b[0;32m    613\u001b[0m \u001b[39m\"\"\"\u001b[39;00m\n\u001b[0;32m    614\u001b[0m values \u001b[39m=\u001b[39m \u001b[39mself\u001b[39m\u001b[39m.\u001b[39mvalues\n\u001b[1;32m--> 616\u001b[0m new_values \u001b[39m=\u001b[39m astype_array_safe(values, dtype, copy\u001b[39m=\u001b[39;49mcopy, errors\u001b[39m=\u001b[39;49merrors)\n\u001b[0;32m    618\u001b[0m new_values \u001b[39m=\u001b[39m maybe_coerce_values(new_values)\n\u001b[0;32m    620\u001b[0m refs \u001b[39m=\u001b[39m \u001b[39mNone\u001b[39;00m\n",
      "File \u001b[1;32mc:\\Users\\Professional\\AppData\\Local\\Programs\\Python\\Python311\\Lib\\site-packages\\pandas\\core\\dtypes\\astype.py:238\u001b[0m, in \u001b[0;36mastype_array_safe\u001b[1;34m(values, dtype, copy, errors)\u001b[0m\n\u001b[0;32m    235\u001b[0m     dtype \u001b[39m=\u001b[39m dtype\u001b[39m.\u001b[39mnumpy_dtype\n\u001b[0;32m    237\u001b[0m \u001b[39mtry\u001b[39;00m:\n\u001b[1;32m--> 238\u001b[0m     new_values \u001b[39m=\u001b[39m astype_array(values, dtype, copy\u001b[39m=\u001b[39;49mcopy)\n\u001b[0;32m    239\u001b[0m \u001b[39mexcept\u001b[39;00m (\u001b[39mValueError\u001b[39;00m, \u001b[39mTypeError\u001b[39;00m):\n\u001b[0;32m    240\u001b[0m     \u001b[39m# e.g. _astype_nansafe can fail on object-dtype of strings\u001b[39;00m\n\u001b[0;32m    241\u001b[0m     \u001b[39m#  trying to convert to float\u001b[39;00m\n\u001b[0;32m    242\u001b[0m     \u001b[39mif\u001b[39;00m errors \u001b[39m==\u001b[39m \u001b[39m\"\u001b[39m\u001b[39mignore\u001b[39m\u001b[39m\"\u001b[39m:\n",
      "File \u001b[1;32mc:\\Users\\Professional\\AppData\\Local\\Programs\\Python\\Python311\\Lib\\site-packages\\pandas\\core\\dtypes\\astype.py:183\u001b[0m, in \u001b[0;36mastype_array\u001b[1;34m(values, dtype, copy)\u001b[0m\n\u001b[0;32m    180\u001b[0m     values \u001b[39m=\u001b[39m values\u001b[39m.\u001b[39mastype(dtype, copy\u001b[39m=\u001b[39mcopy)\n\u001b[0;32m    182\u001b[0m \u001b[39melse\u001b[39;00m:\n\u001b[1;32m--> 183\u001b[0m     values \u001b[39m=\u001b[39m _astype_nansafe(values, dtype, copy\u001b[39m=\u001b[39;49mcopy)\n\u001b[0;32m    185\u001b[0m \u001b[39m# in pandas we don't store numpy str dtypes, so convert to object\u001b[39;00m\n\u001b[0;32m    186\u001b[0m \u001b[39mif\u001b[39;00m \u001b[39misinstance\u001b[39m(dtype, np\u001b[39m.\u001b[39mdtype) \u001b[39mand\u001b[39;00m \u001b[39missubclass\u001b[39m(values\u001b[39m.\u001b[39mdtype\u001b[39m.\u001b[39mtype, \u001b[39mstr\u001b[39m):\n",
      "File \u001b[1;32mc:\\Users\\Professional\\AppData\\Local\\Programs\\Python\\Python311\\Lib\\site-packages\\pandas\\core\\dtypes\\astype.py:134\u001b[0m, in \u001b[0;36m_astype_nansafe\u001b[1;34m(arr, dtype, copy, skipna)\u001b[0m\n\u001b[0;32m    130\u001b[0m     \u001b[39mraise\u001b[39;00m \u001b[39mValueError\u001b[39;00m(msg)\n\u001b[0;32m    132\u001b[0m \u001b[39mif\u001b[39;00m copy \u001b[39mor\u001b[39;00m arr\u001b[39m.\u001b[39mdtype \u001b[39m==\u001b[39m \u001b[39mobject\u001b[39m \u001b[39mor\u001b[39;00m dtype \u001b[39m==\u001b[39m \u001b[39mobject\u001b[39m:\n\u001b[0;32m    133\u001b[0m     \u001b[39m# Explicit copy, or required since NumPy can't view from / to object.\u001b[39;00m\n\u001b[1;32m--> 134\u001b[0m     \u001b[39mreturn\u001b[39;00m arr\u001b[39m.\u001b[39;49mastype(dtype, copy\u001b[39m=\u001b[39;49m\u001b[39mTrue\u001b[39;49;00m)\n\u001b[0;32m    136\u001b[0m \u001b[39mreturn\u001b[39;00m arr\u001b[39m.\u001b[39mastype(dtype, copy\u001b[39m=\u001b[39mcopy)\n",
      "\u001b[1;31mValueError\u001b[0m: invalid literal for int() with base 10: '24 min'"
     ]
    }
   ],
   "source": [
    "#Задание 4\n",
    "dt.filtr()\n"
   ]
  },
  {
   "cell_type": "code",
   "execution_count": null,
   "metadata": {},
   "outputs": [
    {
     "data": {
      "image/png": "[encoded data removed]",
      "text/plain": [
       "<Figure size 640x480 with 1 Axes>"
      ]
     },
     "metadata": {},
     "output_type": "display_data"
    }
   ],
   "source": [
    "#Задание 5\n",
    "dt.Graf()\n"
   ]
  },
  {
   "cell_type": "code",
   "execution_count": null,
   "metadata": {},
   "outputs": [
    {
     "name": "stdout",
     "output_type": "stream",
     "text": [
      "        User Rating  Number of Votes    Runtime  Metascore          Gross\n",
      "min            5.30        75.000000  15.000000        0.0      75.000000\n",
      "max            9.10    434457.000000  26.000000        0.0  434457.000000\n",
      "mean           7.79     22556.766667  23.758333        0.0   22556.766667\n",
      "median         7.90      8678.500000  24.000000        0.0    8678.500000\n"
     ]
    },
    {
     "name": "stderr",
     "output_type": "stream",
     "text": [
      "C:\\Users\\Professional\\AppData\\Local\\Temp\\ipykernel_2752\\1201021881.py:72: SettingWithCopyWarning: \n",
      "A value is trying to be set on a copy of a slice from a DataFrame.\n",
      "Try using .loc[row_indexer,col_indexer] = value instead\n",
      "\n",
      "See the caveats in the documentation: https://pandas.pydata.org/pandas-docs/stable/user_guide/indexing.html#returning-a-view-versus-a-copy\n",
      "  sorted[col] = sorted[col].astype(str)\n",
      "C:\\Users\\Professional\\AppData\\Local\\Temp\\ipykernel_2752\\1201021881.py:73: SettingWithCopyWarning: \n",
      "A value is trying to be set on a copy of a slice from a DataFrame.\n",
      "Try using .loc[row_indexer,col_indexer] = value instead\n",
      "\n",
      "See the caveats in the documentation: https://pandas.pydata.org/pandas-docs/stable/user_guide/indexing.html#returning-a-view-versus-a-copy\n",
      "  sorted[col] = sorted[col].apply(lambda x: x.replace(\",\", \"\").replace(\" \", \"\").replace(\"nan\", \"0\"))\n",
      "C:\\Users\\Professional\\AppData\\Local\\Temp\\ipykernel_2752\\1201021881.py:74: SettingWithCopyWarning: \n",
      "A value is trying to be set on a copy of a slice from a DataFrame.\n",
      "Try using .loc[row_indexer,col_indexer] = value instead\n",
      "\n",
      "See the caveats in the documentation: https://pandas.pydata.org/pandas-docs/stable/user_guide/indexing.html#returning-a-view-versus-a-copy\n",
      "  sorted[col] = sorted[col].astype(float)\n",
      "C:\\Users\\Professional\\AppData\\Local\\Temp\\ipykernel_2752\\1201021881.py:72: SettingWithCopyWarning: \n",
      "A value is trying to be set on a copy of a slice from a DataFrame.\n",
      "Try using .loc[row_indexer,col_indexer] = value instead\n",
      "\n",
      "See the caveats in the documentation: https://pandas.pydata.org/pandas-docs/stable/user_guide/indexing.html#returning-a-view-versus-a-copy\n",
      "  sorted[col] = sorted[col].astype(str)\n",
      "C:\\Users\\Professional\\AppData\\Local\\Temp\\ipykernel_2752\\1201021881.py:73: SettingWithCopyWarning: \n",
      "A value is trying to be set on a copy of a slice from a DataFrame.\n",
      "Try using .loc[row_indexer,col_indexer] = value instead\n",
      "\n",
      "See the caveats in the documentation: https://pandas.pydata.org/pandas-docs/stable/user_guide/indexing.html#returning-a-view-versus-a-copy\n",
      "  sorted[col] = sorted[col].apply(lambda x: x.replace(\",\", \"\").replace(\" \", \"\").replace(\"nan\", \"0\"))\n",
      "C:\\Users\\Professional\\AppData\\Local\\Temp\\ipykernel_2752\\1201021881.py:74: SettingWithCopyWarning: \n",
      "A value is trying to be set on a copy of a slice from a DataFrame.\n",
      "Try using .loc[row_indexer,col_indexer] = value instead\n",
      "\n",
      "See the caveats in the documentation: https://pandas.pydata.org/pandas-docs/stable/user_guide/indexing.html#returning-a-view-versus-a-copy\n",
      "  sorted[col] = sorted[col].astype(float)\n",
      "C:\\Users\\Professional\\AppData\\Local\\Temp\\ipykernel_2752\\1201021881.py:72: SettingWithCopyWarning: \n",
      "A value is trying to be set on a copy of a slice from a DataFrame.\n",
      "Try using .loc[row_indexer,col_indexer] = value instead\n",
      "\n",
      "See the caveats in the documentation: https://pandas.pydata.org/pandas-docs/stable/user_guide/indexing.html#returning-a-view-versus-a-copy\n",
      "  sorted[col] = sorted[col].astype(str)\n",
      "C:\\Users\\Professional\\AppData\\Local\\Temp\\ipykernel_2752\\1201021881.py:73: SettingWithCopyWarning: \n",
      "A value is trying to be set on a copy of a slice from a DataFrame.\n",
      "Try using .loc[row_indexer,col_indexer] = value instead\n",
      "\n",
      "See the caveats in the documentation: https://pandas.pydata.org/pandas-docs/stable/user_guide/indexing.html#returning-a-view-versus-a-copy\n",
      "  sorted[col] = sorted[col].apply(lambda x: x.replace(\",\", \"\").replace(\" \", \"\").replace(\"nan\", \"0\"))\n",
      "C:\\Users\\Professional\\AppData\\Local\\Temp\\ipykernel_2752\\1201021881.py:74: SettingWithCopyWarning: \n",
      "A value is trying to be set on a copy of a slice from a DataFrame.\n",
      "Try using .loc[row_indexer,col_indexer] = value instead\n",
      "\n",
      "See the caveats in the documentation: https://pandas.pydata.org/pandas-docs/stable/user_guide/indexing.html#returning-a-view-versus-a-copy\n",
      "  sorted[col] = sorted[col].astype(float)\n",
      "C:\\Users\\Professional\\AppData\\Local\\Temp\\ipykernel_2752\\1201021881.py:72: SettingWithCopyWarning: \n",
      "A value is trying to be set on a copy of a slice from a DataFrame.\n",
      "Try using .loc[row_indexer,col_indexer] = value instead\n",
      "\n",
      "See the caveats in the documentation: https://pandas.pydata.org/pandas-docs/stable/user_guide/indexing.html#returning-a-view-versus-a-copy\n",
      "  sorted[col] = sorted[col].astype(str)\n",
      "C:\\Users\\Professional\\AppData\\Local\\Temp\\ipykernel_2752\\1201021881.py:73: SettingWithCopyWarning: \n",
      "A value is trying to be set on a copy of a slice from a DataFrame.\n",
      "Try using .loc[row_indexer,col_indexer] = value instead\n",
      "\n",
      "See the caveats in the documentation: https://pandas.pydata.org/pandas-docs/stable/user_guide/indexing.html#returning-a-view-versus-a-copy\n",
      "  sorted[col] = sorted[col].apply(lambda x: x.replace(\",\", \"\").replace(\" \", \"\").replace(\"nan\", \"0\"))\n",
      "C:\\Users\\Professional\\AppData\\Local\\Temp\\ipykernel_2752\\1201021881.py:74: SettingWithCopyWarning: \n",
      "A value is trying to be set on a copy of a slice from a DataFrame.\n",
      "Try using .loc[row_indexer,col_indexer] = value instead\n",
      "\n",
      "See the caveats in the documentation: https://pandas.pydata.org/pandas-docs/stable/user_guide/indexing.html#returning-a-view-versus-a-copy\n",
      "  sorted[col] = sorted[col].astype(float)\n",
      "C:\\Users\\Professional\\AppData\\Local\\Temp\\ipykernel_2752\\1201021881.py:72: SettingWithCopyWarning: \n",
      "A value is trying to be set on a copy of a slice from a DataFrame.\n",
      "Try using .loc[row_indexer,col_indexer] = value instead\n",
      "\n",
      "See the caveats in the documentation: https://pandas.pydata.org/pandas-docs/stable/user_guide/indexing.html#returning-a-view-versus-a-copy\n",
      "  sorted[col] = sorted[col].astype(str)\n",
      "C:\\Users\\Professional\\AppData\\Local\\Temp\\ipykernel_2752\\1201021881.py:73: SettingWithCopyWarning: \n",
      "A value is trying to be set on a copy of a slice from a DataFrame.\n",
      "Try using .loc[row_indexer,col_indexer] = value instead\n",
      "\n",
      "See the caveats in the documentation: https://pandas.pydata.org/pandas-docs/stable/user_guide/indexing.html#returning-a-view-versus-a-copy\n",
      "  sorted[col] = sorted[col].apply(lambda x: x.replace(\",\", \"\").replace(\" \", \"\").replace(\"nan\", \"0\"))\n",
      "C:\\Users\\Professional\\AppData\\Local\\Temp\\ipykernel_2752\\1201021881.py:74: SettingWithCopyWarning: \n",
      "A value is trying to be set on a copy of a slice from a DataFrame.\n",
      "Try using .loc[row_indexer,col_indexer] = value instead\n",
      "\n",
      "See the caveats in the documentation: https://pandas.pydata.org/pandas-docs/stable/user_guide/indexing.html#returning-a-view-versus-a-copy\n",
      "  sorted[col] = sorted[col].astype(float)\n"
     ]
    }
   ],
   "source": [
    "#Задание 6\n",
    "dt.Svod_table()\n"
   ]
  }
 ],
 "metadata": {
  "kernelspec": {
   "display_name": "Python 3",
   "language": "python",
   "name": "python3"
  },
  "language_info": {
   "codemirror_mode": {
    "name": "ipython",
    "version": 3
   },
   "file_extension": ".py",
   "mimetype": "text/x-python",
   "name": "python",
   "nbconvert_exporter": "python",
   "pygments_lexer": "ipython3",
   "version": "3.11.5"
  },
  "orig_nbformat": 4
 },
 "nbformat": 4,
 "nbformat_minor": 2
}
